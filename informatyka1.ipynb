{
  "nbformat": 4,
  "nbformat_minor": 0,
  "metadata": {
    "colab": {
      "name": "informatyka1",
      "provenance": [],
      "collapsed_sections": [],
      "toc_visible": true,
      "authorship_tag": "ABX9TyNMPE+q4hWccHD8bBQqCZQs",
      "include_colab_link": true
    },
    "kernelspec": {
      "name": "python3",
      "display_name": "Python 3"
    }
  },
  "cells": [
    {
      "cell_type": "markdown",
      "metadata": {
        "id": "view-in-github",
        "colab_type": "text"
      },
      "source": [
        "<a href=\"https://colab.research.google.com/github/ZofiaMichnowska/Informatyka/blob/main/informatyka1.ipynb\" target=\"_parent\"><img src=\"https://colab.research.google.com/assets/colab-badge.svg\" alt=\"Open In Colab\"/></a>"
      ]
    },
    {
      "cell_type": "code",
      "metadata": {
        "id": "Gvil-uaWKIRL"
      },
      "source": [
        "print(\"@@@@@@@@@@@@@@@@@@@@@@@@@@@@@@@@@@@@@@@\")\n",
        "print(\"@                                     @\")\n",
        "print(\"@     Zosia Michnowska                @\")\n",
        "print(\"@      klasa 8d                       @\")\n",
        "print(\"@      NSP nr 49                      @\")\n",
        "print(\"@                                     @\")\n",
        "print(\"@@@@@@@@@@@@@@@@@@@@@@@@@@@@@@@@@@@@@@@\")"
      ],
      "execution_count": null,
      "outputs": []
    }
  ]
}